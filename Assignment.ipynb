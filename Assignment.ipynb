{
  "metadata": {
    "kernelspec": {
      "name": "python",
      "display_name": "Python (Pyodide)",
      "language": "python"
    },
    "language_info": {
      "codemirror_mode": {
        "name": "python",
        "version": 3
      },
      "file_extension": ".py",
      "mimetype": "text/x-python",
      "name": "python",
      "nbconvert_exporter": "python",
      "pygments_lexer": "ipython3",
      "version": "3.8"
    }
  },
  "nbformat_minor": 5,
  "nbformat": 4,
  "cells": [
    {
      "id": "10a0c312-fe1b-4c42-bff5-a90ee97ed065",
      "cell_type": "code",
      "source": "#Question 1\n'''\nVision: Identify objects and people, and for depth perception\nTechnology/Frameworks required: Stereo and Depth Cameras\nOpenCV for image processing\nTensorflow for facial recognition\n\nSpeech: To listen and react back vocally to the humans\nTechnology/Frameworks required; Microphones to pick up the sound waves\nSpeakers to output the sound\nKaldi: A toolkit used for speech recognition\nNLP models\nWaveNet: For speech synthesis\n\nMovement: To physically interact with the outside world\nTechnology/Frameworks required: Actuators and Motors\nLIDAR: to 3D map the enviornment\nA* Algorithm: Pathfinding\n\nLearn: To enable a robot to learn from its enviornment\nTechnology/Frameworks required: Reinforcement Learning: Robot learning from trial and error\nPytorch/Keras : To deploy machine learning models\n'''",
      "metadata": {
        "trusted": true
      },
      "outputs": [],
      "execution_count": null
    },
    {
      "id": "206a9f19-c0c5-4eb8-9946-999d938487d6",
      "cell_type": "code",
      "source": "#q 2\nimport pandas as pd\nimport matplotlib.pyplot as plt\n\nrobot_data = pd.read_csv('robot.csv')\n\nprint(robot_data['Interaction_Count'].mean())\nprint(robot_data['Steps_Walked'].sum())\nprint(robot_data['Energy_Consumption (kWh)'].max())\nprint(robot_data['Energy_Consumption (kWh)'].min())\nprint(robot_data['Steps_Walked'].corr(robot_data['Energy_Consumption (kWh)']))\nrobot_data['Objects_Recognized'].plot(kind='hist')\nplt.show()\nprint(robot_data['Learning_Sessions'].var())",
      "metadata": {
        "trusted": true
      },
      "outputs": [],
      "execution_count": null
    },
    {
      "id": "68faa2ea-6ddc-486f-9d2f-7350d4243d16",
      "cell_type": "code",
      "source": "#q 4\nname = \"TEJA\"\nage = 19\nheight = 1.5\nis_Female = True\nprint(f\"Name: {name}, Age: {age}, Height: {height}m, Is Female: {is_Female}\")",
      "metadata": {
        "trusted": true
      },
      "outputs": [
        {
          "name": "stdout",
          "output_type": "stream",
          "text": "Name: TEJA, Age: 19, Height: 1.5m, Is Female: True\n"
        }
      ],
      "execution_count": 8
    },
    {
      "id": "337cf30a-71d0-4137-b49c-4c1802c561e5",
      "cell_type": "code",
      "source": "#Question 3\nimport pandas as pd\nimport matplotlib.pyplot as plt\nrobot_data = pd.read_csv('robot.csv')\n\nprint(robot_data[ 'Interaction_Count'].mean())\n\nprint(robot_data[ 'Steps_Walked'].sum())\n\nprint(robot_data['Energy_ Consumption (kWh)'].max())\nprint(robot_data['Energy_Consumption (kWh) '].min())\n\nprint(robot_data[ Steps Walked'].corr(robot_data[\"Energy_Consumption (kWh)']))\nrobot_data[ ‘Objects Recognized'].plot(kind=\"hist'\")\n\nplt.show()\nprint(robot_data[ 'Learning_Sessions'].var())",
      "metadata": {
        "trusted": true
      },
      "outputs": [],
      "execution_count": null
    },
    {
      "id": "aeb92494-cb79-4bf7-a1f9-4ac9bb379593",
      "cell_type": "code",
      "source": "num = int(input(\"Enter a number: \"))\nif num > 0:\n    print(\"Positive\")\nelif num < 0:\n    print(\"Negative\")\nelse:\n    print(\"Zero\")",
      "metadata": {
        "trusted": true
      },
      "outputs": [
        {
          "ename": "<class 'TypeError'>",
          "evalue": "int() argument must be a string, a bytes-like object or a real number, not 'PyodideFuture'",
          "traceback": [
            "\u001b[0;31m---------------------------------------------------------------------------\u001b[0m",
            "\u001b[0;31mTypeError\u001b[0m                                 Traceback (most recent call last)",
            "Cell \u001b[0;32mIn[14], line 1\u001b[0m\n\u001b[0;32m----> 1\u001b[0m num \u001b[38;5;241m=\u001b[39m \u001b[38;5;28;43mint\u001b[39;49m\u001b[43m(\u001b[49m\u001b[38;5;28;43minput\u001b[39;49m\u001b[43m(\u001b[49m\u001b[38;5;124;43m\"\u001b[39;49m\u001b[38;5;124;43mEnter a number: \u001b[39;49m\u001b[38;5;124;43m\"\u001b[39;49m\u001b[43m)\u001b[49m\u001b[43m)\u001b[49m\n\u001b[1;32m      2\u001b[0m \u001b[38;5;28;01mif\u001b[39;00m num \u001b[38;5;241m>\u001b[39m \u001b[38;5;241m0\u001b[39m:\n\u001b[1;32m      3\u001b[0m     \u001b[38;5;28mprint\u001b[39m(\u001b[38;5;124m\"\u001b[39m\u001b[38;5;124mPositive\u001b[39m\u001b[38;5;124m\"\u001b[39m)\n",
            "\u001b[0;31mTypeError\u001b[0m: int() argument must be a string, a bytes-like object or a real number, not 'PyodideFuture'"
          ],
          "output_type": "error"
        },
        {
          "output_type": "stream",
          "name": "stdin",
          "text": "Enter a number:  5\n"
        }
      ],
      "execution_count": 14
    },
    {
      "id": "dcbef8dc-50ec-4dc0-8c19-09706e315f5f",
      "cell_type": "code",
      "source": "num = int(input(\"Enter a number for multiplication table: \"))\nfor i in range(1, 11):\n    print(f\"{num} x {i} = {num * i}\")",
      "metadata": {
        "trusted": true
      },
      "outputs": [
        {
          "ename": "<class 'TypeError'>",
          "evalue": "int() argument must be a string, a bytes-like object or a real number, not 'PyodideFuture'",
          "traceback": [
            "\u001b[0;31m---------------------------------------------------------------------------\u001b[0m",
            "\u001b[0;31mTypeError\u001b[0m                                 Traceback (most recent call last)",
            "Cell \u001b[0;32mIn[15], line 1\u001b[0m\n\u001b[0;32m----> 1\u001b[0m num \u001b[38;5;241m=\u001b[39m \u001b[38;5;28;43mint\u001b[39;49m\u001b[43m(\u001b[49m\u001b[38;5;28;43minput\u001b[39;49m\u001b[43m(\u001b[49m\u001b[38;5;124;43m\"\u001b[39;49m\u001b[38;5;124;43mEnter a number for multiplication table: \u001b[39;49m\u001b[38;5;124;43m\"\u001b[39;49m\u001b[43m)\u001b[49m\u001b[43m)\u001b[49m\n\u001b[1;32m      2\u001b[0m \u001b[38;5;28;01mfor\u001b[39;00m i \u001b[38;5;129;01min\u001b[39;00m \u001b[38;5;28mrange\u001b[39m(\u001b[38;5;241m1\u001b[39m, \u001b[38;5;241m11\u001b[39m):\n\u001b[1;32m      3\u001b[0m     \u001b[38;5;28mprint\u001b[39m(\u001b[38;5;124mf\u001b[39m\u001b[38;5;124m\"\u001b[39m\u001b[38;5;132;01m{\u001b[39;00mnum\u001b[38;5;132;01m}\u001b[39;00m\u001b[38;5;124m x \u001b[39m\u001b[38;5;132;01m{\u001b[39;00mi\u001b[38;5;132;01m}\u001b[39;00m\u001b[38;5;124m = \u001b[39m\u001b[38;5;132;01m{\u001b[39;00mnum\u001b[38;5;250m \u001b[39m\u001b[38;5;241m*\u001b[39m\u001b[38;5;250m \u001b[39mi\u001b[38;5;132;01m}\u001b[39;00m\u001b[38;5;124m\"\u001b[39m)\n",
            "\u001b[0;31mTypeError\u001b[0m: int() argument must be a string, a bytes-like object or a real number, not 'PyodideFuture'"
          ],
          "output_type": "error"
        },
        {
          "output_type": "stream",
          "name": "stdin",
          "text": "Enter a number for multiplication table:  3\n"
        }
      ],
      "execution_count": 15
    },
    {
      "id": "65d31673-458b-4a2b-a092-29625393adcb",
      "cell_type": "code",
      "source": "# Q 7\nfruits = [\"Apple\", \"Banana\", \"Cherry\", \"Mango\", \"Tomato\"]\nprint(fruits)\n\n# Q 8\nnumbers = (1, 2, 3, 4, 5)\nprint(numbers)\n\n# Q 9\nstudents = {\"Teja\": 85, \"Sasi\": 90, \"Adi\": 79}\nprint(students)\n\n# Q 10\nset1 = {1, 2, 3}\nset2 = {3, 4, 5}\nprint(set1)\nprint(set2)",
      "metadata": {
        "trusted": true
      },
      "outputs": [
        {
          "name": "stdout",
          "output_type": "stream",
          "text": "['Apple', 'Banana', 'Cherry', 'Mango', 'Tomato']\n(1, 2, 3, 4, 5)\n{'Teja': 85, 'Sasi': 90, 'Adi': 79}\n{1, 2, 3}\n{3, 4, 5}\n"
        }
      ],
      "execution_count": 18
    },
    {
      "id": "6b38d39f-5ee7-43fd-8d33-74c1cc435245",
      "cell_type": "code",
      "source": "def find_largest():\n    numbers = []\n    for i in range(5):\n        num = int(input(f\"Enter number {i + 1}: \"))\n        numbers.append(num)\n    \n    largest = numbers[0]\n    for num in numbers[1:]:\n        if num > largest:\n            largest = num\n            \n    return largest\n\n# Example usage\nprint(\"The largest number is:\", find_largest())\n",
      "metadata": {
        "trusted": true
      },
      "outputs": [
        {
          "ename": "<class 'TypeError'>",
          "evalue": "int() argument must be a string, a bytes-like object or a real number, not 'PyodideFuture'",
          "traceback": [
            "\u001b[0;31m---------------------------------------------------------------------------\u001b[0m",
            "\u001b[0;31mTypeError\u001b[0m                                 Traceback (most recent call last)",
            "Cell \u001b[0;32mIn[19], line 15\u001b[0m\n\u001b[1;32m     12\u001b[0m     \u001b[38;5;28;01mreturn\u001b[39;00m largest\n\u001b[1;32m     14\u001b[0m \u001b[38;5;66;03m# Example usage\u001b[39;00m\n\u001b[0;32m---> 15\u001b[0m \u001b[38;5;28mprint\u001b[39m(\u001b[38;5;124m\"\u001b[39m\u001b[38;5;124mThe largest number is:\u001b[39m\u001b[38;5;124m\"\u001b[39m, \u001b[43mfind_largest\u001b[49m\u001b[43m(\u001b[49m\u001b[43m)\u001b[49m)\n",
            "Cell \u001b[0;32mIn[19], line 4\u001b[0m, in \u001b[0;36mfind_largest\u001b[0;34m()\u001b[0m\n\u001b[1;32m      2\u001b[0m numbers \u001b[38;5;241m=\u001b[39m []\n\u001b[1;32m      3\u001b[0m \u001b[38;5;28;01mfor\u001b[39;00m i \u001b[38;5;129;01min\u001b[39;00m \u001b[38;5;28mrange\u001b[39m(\u001b[38;5;241m5\u001b[39m):\n\u001b[0;32m----> 4\u001b[0m     num \u001b[38;5;241m=\u001b[39m \u001b[38;5;28;43mint\u001b[39;49m\u001b[43m(\u001b[49m\u001b[38;5;28;43minput\u001b[39;49m\u001b[43m(\u001b[49m\u001b[38;5;124;43mf\u001b[39;49m\u001b[38;5;124;43m\"\u001b[39;49m\u001b[38;5;124;43mEnter number \u001b[39;49m\u001b[38;5;132;43;01m{\u001b[39;49;00m\u001b[43mi\u001b[49m\u001b[38;5;250;43m \u001b[39;49m\u001b[38;5;241;43m+\u001b[39;49m\u001b[38;5;250;43m \u001b[39;49m\u001b[38;5;241;43m1\u001b[39;49m\u001b[38;5;132;43;01m}\u001b[39;49;00m\u001b[38;5;124;43m: \u001b[39;49m\u001b[38;5;124;43m\"\u001b[39;49m\u001b[43m)\u001b[49m\u001b[43m)\u001b[49m\n\u001b[1;32m      5\u001b[0m     numbers\u001b[38;5;241m.\u001b[39mappend(num)\n\u001b[1;32m      7\u001b[0m largest \u001b[38;5;241m=\u001b[39m numbers[\u001b[38;5;241m0\u001b[39m]\n",
            "\u001b[0;31mTypeError\u001b[0m: int() argument must be a string, a bytes-like object or a real number, not 'PyodideFuture'"
          ],
          "output_type": "error"
        },
        {
          "output_type": "stream",
          "name": "stdin",
          "text": "Enter number 1:  3\n"
        }
      ],
      "execution_count": 19
    },
    {
      "id": "8fda1055-876a-4c22-98d4-605b9a129f31",
      "cell_type": "code",
      "source": "l = []\nfor x in range(1,21):\n    if(x%2==0):\n        l.append(x**2)\nprint(l)\n    ",
      "metadata": {
        "trusted": true
      },
      "outputs": [
        {
          "name": "stdout",
          "output_type": "stream",
          "text": "[4, 16, 36, 64, 100, 144, 196, 256, 324, 400]\n"
        }
      ],
      "execution_count": 20
    },
    {
      "id": "814a7d4c-b430-4030-947d-496fc9bac0a5",
      "cell_type": "code",
      "source": "import numpy as np\n# Q 14\nprint(np.array([1, 2, 3]).shape)\nprint(np.array([[1, 2], [3, 4]]).shape)\nprint(np.array([[[1], [2]], [[3], [4]]]).shape)\n\n# Q 15\nprint(np.random.randint(1, 100, (5, 5)))\n\n# Q 16\nprint(np.arange(1, 17).reshape(4, 4)[:, 1:3])\n\n# Q 17\nprint(np.arange(12).reshape(6, 2).reshape(2, 3, 2).flatten())\n\n# Q 18\nprint(np.array([[1, 2, 3], [4, 5, 6], [7, 8, 9]]) + np.array([1, 2, 3]))\n\n# Q 19\nA = np.array([1, 2, 3])\nB = np.array([4, 5, 6])\nprint(A + B)\nprint(A - B)\nprint(A * B)\nprint(A / B)\n",
      "metadata": {
        "trusted": true
      },
      "outputs": [
        {
          "name": "stdout",
          "output_type": "stream",
          "text": "(3,)\n(2, 2)\n(2, 2, 1)\n[[29 39 47 78 95]\n [10 15 85 87 31]\n [45 95 57 22 75]\n [48 86 14 95 30]\n [43 37 74 54 40]]\n[[ 2  3]\n [ 6  7]\n [10 11]\n [14 15]]\n[ 0  1  2  3  4  5  6  7  8  9 10 11]\n[[ 2  4  6]\n [ 5  7  9]\n [ 8 10 12]]\n[5 7 9]\n[-3 -3 -3]\n[ 4 10 18]\n[0.25 0.4  0.5 ]\n"
        }
      ],
      "execution_count": 21
    },
    {
      "id": "4afa0dc4-b122-489d-8156-d11148f2c97d",
      "cell_type": "code",
      "source": "import pandas as pd\ndata = {\n    'Name': ['Teja', 'Sasi', 'Adi'],\n    'Math': [85, 88, 92],\n    'Science': [100, 88, 99],\n    'English': [75, 10, 100]\n}\n\ndf = pd.DataFrame(data)\ndf['Total'] = df['Math'] + df['Science'] + df['English']\ndef assign_grade(total):\n    if total >= 270:\n        return 'A'\n    elif total >= 240:\n        return 'B'\n    elif total >= 210:\n        return 'C'\n    else:\n        return 'D'\ndf['Grade'] = df['Total'].apply(assign_grade)\nprint(df)\n\n",
      "metadata": {
        "trusted": true
      },
      "outputs": [
        {
          "name": "stdout",
          "output_type": "stream",
          "text": "   Name  Math  Science  English  Total Grade\n0  Teja    85      100       75    260     B\n1  Sasi    88       88       10    186     D\n2   Adi    92       99      100    291     A\n"
        }
      ],
      "execution_count": 24
    },
    {
      "id": "fc8a2f7f-7269-4821-9771-baf61e4fd759",
      "cell_type": "code",
      "source": "",
      "metadata": {
        "trusted": true
      },
      "outputs": [],
      "execution_count": null
    }
  ]
}